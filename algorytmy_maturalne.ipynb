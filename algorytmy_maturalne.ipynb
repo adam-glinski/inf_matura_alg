{
 "cells": [
  {
   "attachments": {},
   "cell_type": "markdown",
   "id": "fbe732e6",
   "metadata": {},
   "source": [
    "# Algorytmy maturalne"
   ]
  },
  {
   "attachments": {},
   "cell_type": "markdown",
   "id": "7e7ba15c",
   "metadata": {},
   "source": [
    "## Na liczbach"
   ]
  },
  {
   "attachments": {},
   "cell_type": "markdown",
   "id": "ef04dcbf",
   "metadata": {},
   "source": [
    "### Sprawdzanie pierwszności liczb"
   ]
  },
  {
   "cell_type": "code",
   "execution_count": 15,
   "id": "89afcac1",
   "metadata": {},
   "outputs": [],
   "source": [
    "\n",
    "def is_prime(n: int) -> bool:\n",
    "    if n < 2:\n",
    "        return False\n",
    "    for i in range(2, int(n**0.5) + 1):\n",
    "        if n % i == 0:\n",
    "            return False\n",
    "        \n",
    "    return True\n",
    "\n",
    "\n",
    "assert is_prime(5) == True\n",
    "assert is_prime(1) == False\n",
    "assert is_prime(2) == True\n"
   ]
  },
  {
   "attachments": {},
   "cell_type": "markdown",
   "id": "67e56e06",
   "metadata": {},
   "source": [
    "### Algorytm Euklidesa"
   ]
  },
  {
   "cell_type": "code",
   "execution_count": 26,
   "id": "348d2803",
   "metadata": {},
   "outputs": [
    {
     "name": "stdout",
     "output_type": "stream",
     "text": [
      "nwd wer. i: 2\n",
      "nwd wer. r: 5\n",
      "nww: 6\n"
     ]
    }
   ],
   "source": [
    "# Najmniejsza Wspólna Wielokrotność i Największy Wspólny Dzielnki\n",
    "# NWD wersja iteracyjna\n",
    "def nwd(a: int, b: int) -> int:\n",
    "    while b != 0:\n",
    "        temp = b\n",
    "        b = a % b\n",
    "        a = temp\n",
    "    return a\n",
    "print(f\"nwd wer. i: {nwd(10, 6)}\")\n",
    "\n",
    "# NWD wersja rekurencyjna\n",
    "def nwd(a: int, b: int) -> int:\n",
    "    if b != 0:\n",
    "        return nwd(b, a % b)\n",
    "    return a\n",
    "\n",
    "# NWW\n",
    "def nww(a: int, b: int) -> int:\n",
    "    return int((a * b)/ nwd(a, b))\n",
    "\n",
    "print(f\"nwd wer. r: {nwd(15, 5)}\")\n",
    "print(f\"nww: {nww(2, 3)}\")"
   ]
  },
  {
   "attachments": {},
   "cell_type": "markdown",
   "id": "d0c359d3",
   "metadata": {},
   "source": [
    "### Ciąg Fibonacciego"
   ]
  },
  {
   "cell_type": "code",
   "execution_count": 7,
   "id": "805ec76b",
   "metadata": {},
   "outputs": [
    {
     "name": "stdout",
     "output_type": "stream",
     "text": [
      "4181\n",
      "5\n"
     ]
    }
   ],
   "source": [
    "# Zwraca n-ty element ciągu fibonacciego\n",
    "# Zakł n >= 0\n",
    "\n",
    "# Wersja rekurencyjna\n",
    "def fibonacci(n: int) -> int:\n",
    "    if n <= 1:\n",
    "        return n\n",
    "    else:\n",
    "        return fibonacci(n - 1) + fibonacci(n - 2)\n",
    "        \n",
    "print(fibonacci(19))\n",
    "\n",
    "# Wersja iteracyjna\n",
    "def fibonacci(n: int) -> int:\n",
    "    a, b = 0, 1\n",
    "    for _ in range(n):\n",
    "        a, b = b, a + b\n",
    "    return a\n",
    "\n",
    "print(fibonacci(5))"
   ]
  },
  {
   "attachments": {},
   "cell_type": "markdown",
   "id": "cce5db34",
   "metadata": {},
   "source": [
    "## Na tekstach"
   ]
  },
  {
   "attachments": {},
   "cell_type": "markdown",
   "id": "83ae8cb0",
   "metadata": {},
   "source": [
    "### Wyszukiwanie wzorca w tekście"
   ]
  },
  {
   "cell_type": "code",
   "execution_count": 33,
   "id": "1b1aabfa",
   "metadata": {},
   "outputs": [
    {
     "name": "stdout",
     "output_type": "stream",
     "text": [
      "[2, 7]\n"
     ]
    }
   ],
   "source": [
    "# Zwraca indkesy wystęowania wszystkich wzorców w zmiennej tekst\n",
    "# zakł len(teksts) > len(wzorzec)\n",
    "def get_all_patterns(tekst: str, wzorzec: str) -> list[int]:\n",
    "    out = []\n",
    "    tekst_len = len(tekst)\n",
    "    wzorzec_len = len(wzorzec)\n",
    "    for i in range(tekst_len - wzorzec_len + 1):\n",
    "        if wzorzec == tekst[i: i + wzorzec_len]:\n",
    "            out.append(i)\n",
    "    \n",
    "    return out\n",
    "\n",
    "\n",
    "print(get_all_patterns(\"ABAABBBAAB\", \"AAB\"))"
   ]
  },
  {
   "attachments": {},
   "cell_type": "markdown",
   "id": "82e6d8ce",
   "metadata": {},
   "source": [
    "### Szyfr Cezara"
   ]
  },
  {
   "cell_type": "code",
   "execution_count": 57,
   "id": "1d605ce2",
   "metadata": {},
   "outputs": [
    {
     "name": "stdout",
     "output_type": "stream",
     "text": [
      "QEB\n"
     ]
    }
   ],
   "source": [
    "# Zakładajac że tekst zawiera tylko duże litery i brak polskich znaków [zapewnie najlatwiej by dodac te przypadki to ifa (albo zrobic match-a jezeli python>=3.10)]\n",
    "def cezars_cipher(text: str, key: int) -> str:\n",
    "    out = \"\"\n",
    "    for c in text:\n",
    "        if key > 0 and c == 'Z':\n",
    "            out += chr(ord('A') + (key - 1))\n",
    "        elif key < 0 and c == 'A':\n",
    "            out += chr(ord('Z') + (key + 1))\n",
    "        else:\n",
    "            out += (chr(ord(c) + key))\n",
    "    return out\n",
    "print(cezars_cipher(\"THE\", -3))"
   ]
  },
  {
   "attachments": {},
   "cell_type": "markdown",
   "id": "4c5d2688",
   "metadata": {},
   "source": [
    "### Szyfr przestawieniowy"
   ]
  },
  {
   "attachments": {},
   "cell_type": "markdown",
   "id": "6aa973e5",
   "metadata": {},
   "source": [
    "Szyfr ten występuje w wielu wariantach i jest na tyle prosty że postanowiłem go to nie umieszczać. Np:\n",
    "\n",
    "Polega na przestawianiu sąsiednich liter:\n",
    "\n",
    "JERZY => EJZRY\n",
    "\n",
    "(`J` zamieniamy z `E`, `R` z `Z`, `Y` pozostaje niezmienione)"
   ]
  }
 ],
 "metadata": {
  "kernelspec": {
   "display_name": "Python 3",
   "language": "python",
   "name": "python3"
  },
  "language_info": {
   "codemirror_mode": {
    "name": "ipython",
    "version": 3
   },
   "file_extension": ".py",
   "mimetype": "text/x-python",
   "name": "python",
   "nbconvert_exporter": "python",
   "pygments_lexer": "ipython3",
   "version": "3.10.2"
  }
 },
 "nbformat": 4,
 "nbformat_minor": 5
}
