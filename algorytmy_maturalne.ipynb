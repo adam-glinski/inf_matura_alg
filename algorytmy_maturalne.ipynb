{
 "cells": [
  {
   "attachments": {},
   "cell_type": "markdown",
   "id": "fbe732e6",
   "metadata": {},
   "source": [
    "# Algorytmy maturalne"
   ]
  },
  {
   "attachments": {},
   "cell_type": "markdown",
   "id": "7e7ba15c",
   "metadata": {},
   "source": [
    "## Na liczbach"
   ]
  },
  {
   "attachments": {},
   "cell_type": "markdown",
   "id": "ef04dcbf",
   "metadata": {},
   "source": [
    "### Sprawdzanie pierwszności liczb"
   ]
  },
  {
   "cell_type": "code",
   "execution_count": 15,
   "id": "89afcac1",
   "metadata": {},
   "outputs": [],
   "source": [
    "\n",
    "def is_prime(n: int) -> bool:\n",
    "    if n < 2:\n",
    "        return False\n",
    "    for i in range(2, int(n**0.5) + 1):\n",
    "        if n % i == 0:\n",
    "            return False\n",
    "        \n",
    "    return True\n",
    "\n",
    "\n",
    "assert is_prime(5) == True\n",
    "assert is_prime(1) == False\n",
    "assert is_prime(2) == True\n"
   ]
  },
  {
   "attachments": {},
   "cell_type": "markdown",
   "id": "67e56e06",
   "metadata": {},
   "source": [
    "### Algorytm Euklidesa"
   ]
  },
  {
   "cell_type": "code",
   "execution_count": 26,
   "id": "348d2803",
   "metadata": {},
   "outputs": [
    {
     "name": "stdout",
     "output_type": "stream",
     "text": [
      "nwd wer. i: 2\n",
      "nwd wer. r: 5\n",
      "nww: 6\n"
     ]
    }
   ],
   "source": [
    "# Najmniejsza Wspólna Wielokrotność i Największy Wspólny Dzielnki\n",
    "# NWD wersja iteracyjna\n",
    "def nwd(a: int, b: int) -> int:\n",
    "    while b != 0:\n",
    "        temp = b\n",
    "        b = a % b\n",
    "        a = temp\n",
    "    return a\n",
    "print(f\"nwd wer. i: {nwd(10, 6)}\")\n",
    "\n",
    "# NWD wersja rekurencyjna\n",
    "def nwd(a: int, b: int) -> int:\n",
    "    if b != 0:\n",
    "        return nwd(b, a % b)\n",
    "    return a\n",
    "\n",
    "# NWW\n",
    "def nww(a: int, b: int) -> int:\n",
    "    return int((a * b)/ nwd(a, b))\n",
    "\n",
    "print(f\"nwd wer. r: {nwd(15, 5)}\")\n",
    "print(f\"nww: {nww(2, 3)}\")"
   ]
  },
  {
   "attachments": {},
   "cell_type": "markdown",
   "id": "d0c359d3",
   "metadata": {},
   "source": [
    "### Ciąg Fibonacciego"
   ]
  },
  {
   "cell_type": "code",
   "execution_count": 7,
   "id": "805ec76b",
   "metadata": {},
   "outputs": [
    {
     "name": "stdout",
     "output_type": "stream",
     "text": [
      "4181\n",
      "5\n"
     ]
    }
   ],
   "source": [
    "# Zwraca n-ty element ciągu fibonacciego\n",
    "# Zakł n >= 0\n",
    "\n",
    "# Wersja rekurencyjna\n",
    "def fibonacci(n: int) -> int:\n",
    "    if n <= 1:\n",
    "        return n\n",
    "    else:\n",
    "        return fibonacci(n - 1) + fibonacci(n - 2)\n",
    "        \n",
    "print(fibonacci(19))\n",
    "\n",
    "# Wersja iteracyjna\n",
    "def fibonacci(n: int) -> int:\n",
    "    a, b = 0, 1\n",
    "    for _ in range(n):\n",
    "        a, b = b, a + b\n",
    "    return a\n",
    "\n",
    "print(fibonacci(5))"
   ]
  },
  {
   "attachments": {},
   "cell_type": "markdown",
   "id": "43e5e4f1",
   "metadata": {},
   "source": [
    "### Sito Eratostenesa"
   ]
  },
  {
   "cell_type": "code",
   "execution_count": 20,
   "id": "b08fd91a",
   "metadata": {},
   "outputs": [
    {
     "name": "stdout",
     "output_type": "stream",
     "text": [
      "[2, 3, 5, 7, 11, 13, 17, 19, 23, 29, 31, 37, 41, 43, 47, 53, 59, 61, 67, 71, 73, 79, 83, 89, 97]\n"
     ]
    }
   ],
   "source": [
    "def sito(n: int) -> list[int]:\n",
    "    primes = [True] * (n + 1)\n",
    "    for i in range(2, int(n**0.5) + 2):\n",
    "        if primes[i]:\n",
    "            for j in range(i + i, n + 1, i): # Wykreślanie wielokrotonośći\n",
    "                primes[j] = False\n",
    "    \n",
    "    out = []\n",
    "    for i in range(2, n + 1):\n",
    "        if primes[i]:\n",
    "            out.append(i)\n",
    "    \n",
    "    return out\n",
    "\n",
    "print(sito(100))\n"
   ]
  },
  {
   "attachments": {},
   "cell_type": "markdown",
   "id": "7f5d7dc7",
   "metadata": {},
   "source": [
    "### Szybkie potęgowanie"
   ]
  },
  {
   "cell_type": "code",
   "execution_count": 73,
   "id": "dfffcd63",
   "metadata": {},
   "outputs": [
    {
     "name": "stdout",
     "output_type": "stream",
     "text": [
      "1024\n",
      "32\n"
     ]
    }
   ],
   "source": [
    "# Szybkie potegowanie a^n\n",
    "# zakł że a i n są całkowite\n",
    "\n",
    "# wersja iteracyjna\n",
    "def fast_power(a: int, n: int) -> int:\n",
    "    out = 1\n",
    "    while n > 0:\n",
    "        if n & 1: # Sprawdzamy LSB\n",
    "            out = out * a\n",
    "        \n",
    "        a = a * a\n",
    "        n = n >> 1 # Skracamy o bit\n",
    "    \n",
    "    return out\n",
    "\n",
    "print(fast_power(4, 5))\n",
    "\n",
    "# wersja rekurencyjna\n",
    "def fast_power(a: int, n: int) -> int:\n",
    "    if n == 0:\n",
    "        return 1\n",
    "    \n",
    "    if n & 1: # Sprawdzamy LSB\n",
    "        return a * fast_power(a, n - 1)\n",
    "\n",
    "    w = fast_power(a, n >> 1) # n >> 1  == n // 2\n",
    "    return w * w\n",
    "\n",
    "print(fast_power(2, 5))"
   ]
  },
  {
   "attachments": {},
   "cell_type": "markdown",
   "id": "a946b897",
   "metadata": {},
   "source": [
    "### Wyznaczanie miejsc zerowych funkcji metodą połowienia przedziałów"
   ]
  },
  {
   "cell_type": "code",
   "execution_count": 32,
   "id": "24dbe0ff",
   "metadata": {},
   "outputs": [
    {
     "name": "stdout",
     "output_type": "stream",
     "text": [
      "2.999997138977051\n"
     ]
    }
   ],
   "source": [
    "# Funkcja matematyczna\n",
    "def f(x: float) -> float:\n",
    "    # x^3 - 3x^2 + 2x - 6\n",
    "    return (x**3) - (3*(x**2)) + 2*x - 6\n",
    "\"\"\"\n",
    "a - początek przedziału (x-owego)\n",
    "b - koniec przedziału (x-owego)\n",
    "\"\"\"\n",
    "def polowanie_przedzialow(a: float, b: float, eps: float) -> float:\n",
    "    if f(a) == 0: return a\n",
    "    if f(b) == 0: return b\n",
    "    \n",
    "    while (b - a) > eps:\n",
    "        mid = (a + b) / 2\n",
    "        if f(mid) == 0: return mid\n",
    "        \n",
    "        if f(a)*f(mid) < 0:\n",
    "            b = mid\n",
    "        else:\n",
    "            a = mid\n",
    "    \n",
    "    return (a+b) / 2\n",
    "\n",
    "print(polowanie_przedzialow(-10, 10, 0.00001))"
   ]
  },
  {
   "attachments": {},
   "cell_type": "markdown",
   "id": "476a3b69",
   "metadata": {},
   "source": [
    "### Rozkład liczby na czynniki pierwsze"
   ]
  },
  {
   "cell_type": "code",
   "execution_count": 69,
   "id": "2e6dae4b",
   "metadata": {},
   "outputs": [],
   "source": [
    "# Słabo wydajny algorytm ale działa \n",
    "def prime_factorization(n: int) -> list[int]:\n",
    "    factors = []\n",
    "    k = 2\n",
    "    while n != 1:\n",
    "        while n % k == 0:\n",
    "            n //= k\n",
    "            factors.append(k)\n",
    "        k += 1\n",
    "    \n",
    "    return factors\n",
    "\n",
    "assert prime_factorization(315) == [3, 3, 5, 7]"
   ]
  },
  {
   "attachments": {},
   "cell_type": "markdown",
   "id": "cce5db34",
   "metadata": {},
   "source": [
    "## Na tekstach"
   ]
  },
  {
   "attachments": {},
   "cell_type": "markdown",
   "id": "83ae8cb0",
   "metadata": {},
   "source": [
    "### Wyszukiwanie wzorca w tekście"
   ]
  },
  {
   "cell_type": "code",
   "execution_count": 33,
   "id": "1b1aabfa",
   "metadata": {},
   "outputs": [
    {
     "name": "stdout",
     "output_type": "stream",
     "text": [
      "[2, 7]\n"
     ]
    }
   ],
   "source": [
    "# Zwraca indkesy wystęowania wszystkich wzorców w zmiennej tekst\n",
    "# zakł len(teksts) > len(wzorzec)\n",
    "def get_all_patterns(tekst: str, wzorzec: str) -> list[int]:\n",
    "    out = []\n",
    "    tekst_len = len(tekst)\n",
    "    wzorzec_len = len(wzorzec)\n",
    "    for i in range(tekst_len - wzorzec_len + 1):\n",
    "        if wzorzec == tekst[i: i + wzorzec_len]:\n",
    "            out.append(i)\n",
    "    \n",
    "    return out\n",
    "\n",
    "\n",
    "print(get_all_patterns(\"ABAABBBAAB\", \"AAB\"))"
   ]
  },
  {
   "attachments": {},
   "cell_type": "markdown",
   "id": "82e6d8ce",
   "metadata": {
    "tags": [
     "parameters"
    ]
   },
   "source": [
    "### Szyfr Cezara"
   ]
  },
  {
   "cell_type": "code",
   "execution_count": 57,
   "id": "1d605ce2",
   "metadata": {},
   "outputs": [
    {
     "name": "stdout",
     "output_type": "stream",
     "text": [
      "QEB\n"
     ]
    }
   ],
   "source": [
    "# Zakładajac że tekst zawiera tylko duże litery i brak polskich znaków [zapewnie najlatwiej by dodac te przypadki to ifa (albo zrobic match-a jezeli python>=3.10)]\n",
    "def cezars_cipher(text: str, key: int) -> str:\n",
    "    out = \"\"\n",
    "    for c in text:\n",
    "        if key > 0 and c == 'Z':\n",
    "            out += chr(ord('A') + (key - 1))\n",
    "        elif key < 0 and c == 'A':\n",
    "            out += chr(ord('Z') + (key + 1))\n",
    "        else:\n",
    "            out += (chr(ord(c) + key))\n",
    "    return out\n",
    "print(cezars_cipher(\"THE\", -3))"
   ]
  },
  {
   "attachments": {},
   "cell_type": "markdown",
   "id": "4c5d2688",
   "metadata": {},
   "source": [
    "### Szyfr przestawieniowy"
   ]
  },
  {
   "attachments": {},
   "cell_type": "markdown",
   "id": "6aa973e5",
   "metadata": {},
   "source": [
    "Szyfr ten występuje w wielu wariantach i jest na tyle prosty że postanowiłem go to nie umieszczać. Np:\n",
    "\n",
    "Polega na przestawianiu sąsiednich liter:\n",
    "\n",
    "JERZY => EJZRY\n",
    "\n",
    "(`J` zamieniamy z `E`, `R` z `Z`, `Y` pozostaje niezmienione)"
   ]
  },
  {
   "attachments": {},
   "cell_type": "markdown",
   "id": "5bdeeca9",
   "metadata": {},
   "source": [
    "## Na tablicach"
   ]
  },
  {
   "attachments": {},
   "cell_type": "markdown",
   "id": "9bad7b80",
   "metadata": {},
   "source": [
    "### Wyszukiwanie binarne"
   ]
  },
  {
   "cell_type": "code",
   "execution_count": 18,
   "id": "dfcfe4b0",
   "metadata": {},
   "outputs": [
    {
     "name": "stdout",
     "output_type": "stream",
     "text": [
      "4\n",
      "4\n"
     ]
    }
   ],
   "source": [
    "# Zwraca indeks elementu w tablicy, w przeciwnym razie -1\n",
    "# Dane testowe\n",
    "tab = [0, 3, 6, 10, 15, 23, 44]\n",
    "x = 15\n",
    "# koniec danych\n",
    "\n",
    "# wersja rekurencyjna\n",
    "def binary_search(tab: list[int], x: int, low: int, high: int) -> int:\n",
    "    if high >= low:\n",
    "        mid = (high + low) // 2\n",
    "        if tab[mid] == x:\n",
    "            return mid\n",
    "        elif tab[mid] > x:\n",
    "            return binary_search(tab, x, low, mid - 1)\n",
    "        else:\n",
    "            return binary_search(tab, x, mid + 1, high)\n",
    "    \n",
    "    return -1\n",
    "\n",
    "print(binary_search(tab, x, 0, len(tab) - 1))\n",
    "\n",
    "# wersja iteracyjna\n",
    "def binary_search(tab: list[int], x: int) -> int:\n",
    "    low = 0\n",
    "    high = len(tab) - 1\n",
    "\n",
    "    while high >= low:\n",
    "        mid = (high + low) // 2\n",
    "        if tab[mid] < x:\n",
    "            low = mid + 1\n",
    "        elif tab[mid] > x:\n",
    "            high = mid - 1\n",
    "        else:\n",
    "            return mid\n",
    "    \n",
    "    return -1\n",
    "\n",
    "print(binary_search(tab, x))"
   ]
  },
  {
   "attachments": {},
   "cell_type": "markdown",
   "id": "06334c20",
   "metadata": {},
   "source": [
    "### Sortowanie przez scalanie"
   ]
  },
  {
   "cell_type": "code",
   "execution_count": 11,
   "id": "575c337a",
   "metadata": {},
   "outputs": [
    {
     "name": "stdout",
     "output_type": "stream",
     "text": [
      "[-300, -56, -1, 0, 56, 1000]\n"
     ]
    }
   ],
   "source": [
    "def merge(tab: list[int], start: int, center: int, end: int) -> list[int]:\n",
    "    i = start\n",
    "    j = center + 1\n",
    "    temp = []\n",
    "    \n",
    "    while i <= center and j <= end:\n",
    "        if tab[j] < tab[i]:\n",
    "            temp.append(tab[j])\n",
    "            j = j + 1\n",
    "        else:\n",
    "            temp.append(tab[i])\n",
    "            i = i + 1\n",
    "    \n",
    "    if i <= center:\n",
    "        while i <= center:\n",
    "            temp.append(tab[i])\n",
    "            i = i + 1\n",
    "    else:        \n",
    "        while j <= end:\n",
    "            temp.append(tab[j])\n",
    "            j = j + 1\n",
    "        \n",
    "    i = 0\n",
    "    while i < end - start + 1:\n",
    "        tab[start + i] = temp[i]\n",
    "        i = i + 1\n",
    "\n",
    "    return tab\n",
    "\n",
    "def merge_sort(tab: list[int], start: int, end: int) -> list[int]:\n",
    "    if start != end:\n",
    "        center = int((start + end) // 2)\n",
    "        merge_sort(tab, start, center)\n",
    "        merge_sort(tab, center + 1, end)\n",
    "\n",
    "        merge(tab, start, center, end)\n",
    "    \n",
    "    return tab\n",
    "\n",
    "tab = [1000, 0, -1, -300, 56, -56]\n",
    "print(merge_sort(tab, 0, len(tab) - 1))"
   ]
  },
  {
   "attachments": {},
   "cell_type": "markdown",
   "id": "5a42a370",
   "metadata": {},
   "source": [
    "### Znajdowanie podciąów w ciągu"
   ]
  },
  {
   "cell_type": "code",
   "execution_count": 10,
   "id": "06949b41",
   "metadata": {},
   "outputs": [
    {
     "name": "stdout",
     "output_type": "stream",
     "text": [
      "[(0, 1), (4, 5), (6, 13)]\n"
     ]
    }
   ],
   "source": [
    "# To zadanie może mieć wiele postaci ale zasada jest zazwyczaj ta sama\n",
    "# Tutaj np znajdowanie wszystkich podciągów niemalejących\n",
    "MAX_NUMBER = 10**6\n",
    "\n",
    "def get_sequences(tab: list[int]):\n",
    "    sequences = []\n",
    "    start = MAX_NUMBER\n",
    "    last = MAX_NUMBER\n",
    "    start_i = None\n",
    "    last_i = None\n",
    "    length = 1\n",
    "    for i in range(len(tab)):\n",
    "        n = tab[i]\n",
    "        if n < last: # Warunek przerwania podciągu (znalezienia końca podciągu)\n",
    "            if start_i != last_i: # Pomijamy podciągi o długości 1\n",
    "                sequences.append((start_i, last_i))\n",
    "            start = n\n",
    "            last = n\n",
    "            start_i = i\n",
    "            last_i = i\n",
    "            length = 1\n",
    "        else:\n",
    "            length += 1\n",
    "            last = n\n",
    "            last_i = i\n",
    "\n",
    "    if start_i != last_i:\n",
    "        sequences.append((start_i, last_i)) # Dodaj jezcze ostatni ciag\n",
    "    return sequences\n",
    "\n",
    "tab = [3, 123, 43, 23, 1, 1, 0, 34, 44, 1412, 3242, 33333, 981200, 90129312, 44]\n",
    "\n",
    "print(get_sequences(tab))"
   ]
  },
  {
   "attachments": {},
   "cell_type": "markdown",
   "id": "c742c081",
   "metadata": {},
   "source": [
    "### Sumy prefiksowe"
   ]
  },
  {
   "cell_type": "code",
   "execution_count": 17,
   "id": "4b07c119",
   "metadata": {},
   "outputs": [
    {
     "name": "stdout",
     "output_type": "stream",
     "text": [
      "[0, 1, 6, 9, 15, 22, 25, 35]\n"
     ]
    },
    {
     "data": {
      "text/plain": [
       "26"
      ]
     },
     "execution_count": 17,
     "metadata": {},
     "output_type": "execute_result"
    }
   ],
   "source": [
    "def get_prefixes(tab: list[int]) -> list[int]:\n",
    "    out = [0]\n",
    "    for i in range(len(tab)):\n",
    "        out.append(out[-1] + tab[i])\n",
    "    return out\n",
    "\n",
    "def get_sum(a: int, b: int, prefixes: list[int]) ->int:\n",
    "    return prefixes[b] - prefixes[a - 1]\n",
    "\n",
    "t = [1, 5, 3, 6, 7, 3, 10]\n",
    "p = get_prefixes(t)\n",
    "print(p)\n",
    "get_sum(4, 7, p)"
   ]
  }
 ],
 "metadata": {
  "kernelspec": {
   "display_name": "Python 3",
   "language": "python",
   "name": "python3"
  },
  "language_info": {
   "codemirror_mode": {
    "name": "ipython",
    "version": 3
   },
   "file_extension": ".py",
   "mimetype": "text/x-python",
   "name": "python",
   "nbconvert_exporter": "python",
   "pygments_lexer": "ipython3",
   "version": "3.10.2"
  }
 },
 "nbformat": 4,
 "nbformat_minor": 5
}
