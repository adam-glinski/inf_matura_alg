{
 "cells": [
  {
   "attachments": {},
   "cell_type": "markdown",
   "id": "fbe732e6",
   "metadata": {},
   "source": [
    "# Algorytmy maturalne"
   ]
  },
  {
   "attachments": {},
   "cell_type": "markdown",
   "id": "7e7ba15c",
   "metadata": {},
   "source": [
    "## Na liczbach"
   ]
  },
  {
   "attachments": {},
   "cell_type": "markdown",
   "id": "ef04dcbf",
   "metadata": {},
   "source": [
    "### Sprawdzanie pierwszności liczb"
   ]
  },
  {
   "cell_type": "code",
   "execution_count": 15,
   "id": "89afcac1",
   "metadata": {},
   "outputs": [],
   "source": [
    "\n",
    "def is_prime(n: int) -> bool:\n",
    "    if n < 2:\n",
    "        return False\n",
    "    for i in range(2, int(n**0.5) + 1):\n",
    "        if n % i == 0:\n",
    "            return False\n",
    "        \n",
    "    return True\n",
    "\n",
    "\n",
    "assert is_prime(5) == True\n",
    "assert is_prime(1) == False\n",
    "assert is_prime(2) == True\n"
   ]
  },
  {
   "attachments": {},
   "cell_type": "markdown",
   "id": "67e56e06",
   "metadata": {},
   "source": [
    "### Algorytm Euklidesa"
   ]
  },
  {
   "cell_type": "code",
   "execution_count": 26,
   "id": "348d2803",
   "metadata": {},
   "outputs": [
    {
     "name": "stdout",
     "output_type": "stream",
     "text": [
      "nwd wer. i: 2\n",
      "nwd wer. r: 5\n",
      "nww: 6\n"
     ]
    }
   ],
   "source": [
    "# Najmniejsza Wspólna Wielokrotność i Największy Wspólny Dzielnki\n",
    "# NWD wersja iteracyjna\n",
    "def nwd(a: int, b: int) -> int:\n",
    "    while b != 0:\n",
    "        temp = b\n",
    "        b = a % b\n",
    "        a = temp\n",
    "    return a\n",
    "print(f\"nwd wer. i: {nwd(10, 6)}\")\n",
    "\n",
    "# NWD wersja rekurencyjna\n",
    "def nwd(a: int, b: int) -> int:\n",
    "    if b != 0:\n",
    "        return nwd(b, a % b)\n",
    "    return a\n",
    "\n",
    "# NWW\n",
    "def nww(a: int, b: int) -> int:\n",
    "    return int((a * b)/ nwd(a, b))\n",
    "\n",
    "print(f\"nwd wer. r: {nwd(15, 5)}\")\n",
    "print(f\"nww: {nww(2, 3)}\")"
   ]
  },
  {
   "attachments": {},
   "cell_type": "markdown",
   "id": "d0c359d3",
   "metadata": {},
   "source": [
    "### Ciąg Fibonacciego"
   ]
  },
  {
   "cell_type": "code",
   "execution_count": 7,
   "id": "805ec76b",
   "metadata": {},
   "outputs": [
    {
     "name": "stdout",
     "output_type": "stream",
     "text": [
      "4181\n",
      "5\n"
     ]
    }
   ],
   "source": [
    "# Zwraca n-ty element ciągu fibonacciego\n",
    "# Zakł n >= 0\n",
    "\n",
    "# Wersja rekurencyjna\n",
    "def fibonacci(n: int) -> int:\n",
    "    if n <= 1:\n",
    "        return n\n",
    "    else:\n",
    "        return fibonacci(n - 1) + fibonacci(n - 2)\n",
    "        \n",
    "print(fibonacci(19))\n",
    "\n",
    "# Wersja iteracyjna\n",
    "def fibonacci(n: int) -> int:\n",
    "    a, b = 0, 1\n",
    "    for _ in range(n):\n",
    "        a, b = b, a + b\n",
    "    return a\n",
    "\n",
    "print(fibonacci(5))"
   ]
  },
  {
   "attachments": {},
   "cell_type": "markdown",
   "id": "43e5e4f1",
   "metadata": {},
   "source": [
    "### Sito Eratostenesa"
   ]
  },
  {
   "cell_type": "code",
   "execution_count": 20,
   "id": "b08fd91a",
   "metadata": {},
   "outputs": [
    {
     "name": "stdout",
     "output_type": "stream",
     "text": [
      "[2, 3, 5, 7, 11, 13, 17, 19, 23, 29, 31, 37, 41, 43, 47, 53, 59, 61, 67, 71, 73, 79, 83, 89, 97]\n"
     ]
    }
   ],
   "source": [
    "def sito(n: int) -> list[int]:\n",
    "    primes = [True] * (n + 1)\n",
    "    for i in range(2, int(n**0.5) + 2):\n",
    "        if primes[i]:\n",
    "            for j in range(i + i, n + 1, i): # Wykreślanie wielokrotonośći\n",
    "                primes[j] = False\n",
    "    \n",
    "    out = []\n",
    "    for i in range(2, n + 1):\n",
    "        if primes[i]:\n",
    "            out.append(i)\n",
    "    \n",
    "    return out\n",
    "\n",
    "print(sito(100))\n"
   ]
  },
  {
   "attachments": {},
   "cell_type": "markdown",
   "id": "cce5db34",
   "metadata": {},
   "source": [
    "## Na tekstach"
   ]
  },
  {
   "attachments": {},
   "cell_type": "markdown",
   "id": "83ae8cb0",
   "metadata": {},
   "source": [
    "### Wyszukiwanie wzorca w tekście"
   ]
  },
  {
   "cell_type": "code",
   "execution_count": 33,
   "id": "1b1aabfa",
   "metadata": {},
   "outputs": [
    {
     "name": "stdout",
     "output_type": "stream",
     "text": [
      "[2, 7]\n"
     ]
    }
   ],
   "source": [
    "# Zwraca indkesy wystęowania wszystkich wzorców w zmiennej tekst\n",
    "# zakł len(teksts) > len(wzorzec)\n",
    "def get_all_patterns(tekst: str, wzorzec: str) -> list[int]:\n",
    "    out = []\n",
    "    tekst_len = len(tekst)\n",
    "    wzorzec_len = len(wzorzec)\n",
    "    for i in range(tekst_len - wzorzec_len + 1):\n",
    "        if wzorzec == tekst[i: i + wzorzec_len]:\n",
    "            out.append(i)\n",
    "    \n",
    "    return out\n",
    "\n",
    "\n",
    "print(get_all_patterns(\"ABAABBBAAB\", \"AAB\"))"
   ]
  },
  {
   "attachments": {},
   "cell_type": "markdown",
   "id": "82e6d8ce",
   "metadata": {},
   "source": [
    "### Szyfr Cezara"
   ]
  },
  {
   "cell_type": "code",
   "execution_count": 57,
   "id": "1d605ce2",
   "metadata": {},
   "outputs": [
    {
     "name": "stdout",
     "output_type": "stream",
     "text": [
      "QEB\n"
     ]
    }
   ],
   "source": [
    "# Zakładajac że tekst zawiera tylko duże litery i brak polskich znaków [zapewnie najlatwiej by dodac te przypadki to ifa (albo zrobic match-a jezeli python>=3.10)]\n",
    "def cezars_cipher(text: str, key: int) -> str:\n",
    "    out = \"\"\n",
    "    for c in text:\n",
    "        if key > 0 and c == 'Z':\n",
    "            out += chr(ord('A') + (key - 1))\n",
    "        elif key < 0 and c == 'A':\n",
    "            out += chr(ord('Z') + (key + 1))\n",
    "        else:\n",
    "            out += (chr(ord(c) + key))\n",
    "    return out\n",
    "print(cezars_cipher(\"THE\", -3))"
   ]
  },
  {
   "attachments": {},
   "cell_type": "markdown",
   "id": "4c5d2688",
   "metadata": {},
   "source": [
    "### Szyfr przestawieniowy"
   ]
  },
  {
   "attachments": {},
   "cell_type": "markdown",
   "id": "6aa973e5",
   "metadata": {},
   "source": [
    "Szyfr ten występuje w wielu wariantach i jest na tyle prosty że postanowiłem go to nie umieszczać. Np:\n",
    "\n",
    "Polega na przestawianiu sąsiednich liter:\n",
    "\n",
    "JERZY => EJZRY\n",
    "\n",
    "(`J` zamieniamy z `E`, `R` z `Z`, `Y` pozostaje niezmienione)"
   ]
  },
  {
   "attachments": {},
   "cell_type": "markdown",
   "id": "5bdeeca9",
   "metadata": {},
   "source": [
    "## Na tablicach"
   ]
  },
  {
   "attachments": {},
   "cell_type": "markdown",
   "id": "9bad7b80",
   "metadata": {},
   "source": [
    "### Wyszukiwanie binarne"
   ]
  },
  {
   "cell_type": "code",
   "execution_count": 18,
   "id": "dfcfe4b0",
   "metadata": {},
   "outputs": [
    {
     "name": "stdout",
     "output_type": "stream",
     "text": [
      "4\n",
      "4\n"
     ]
    }
   ],
   "source": [
    "# Zwraca indeks elementu w tablicy, w przeciwnym razie -1\n",
    "# Dane testowe\n",
    "tab = [0, 3, 6, 10, 15, 23, 44]\n",
    "x = 15\n",
    "# koniec danych\n",
    "\n",
    "# wersja rekurencyjna\n",
    "def binary_search(tab: list[int], x: int, low: int, high: int) -> int:\n",
    "    if high >= low:\n",
    "        mid = (high + low) // 2\n",
    "        if tab[mid] == x:\n",
    "            return mid\n",
    "        elif tab[mid] > x:\n",
    "            return binary_search(tab, x, low, mid - 1)\n",
    "        else:\n",
    "            return binary_search(tab, x, mid + 1, high)\n",
    "    \n",
    "    return -1\n",
    "\n",
    "print(binary_search(tab, x, 0, len(tab) - 1))\n",
    "\n",
    "# wersja iteracyjna\n",
    "def binary_search(tab: list[int], x: int) -> int:\n",
    "    low = 0\n",
    "    high = len(tab) - 1\n",
    "\n",
    "    while high >= low:\n",
    "        mid = (high + low) // 2\n",
    "        if tab[mid] < x:\n",
    "            low = mid + 1\n",
    "        elif tab[mid] > x:\n",
    "            high = mid - 1\n",
    "        else:\n",
    "            return mid\n",
    "    \n",
    "    return -1\n",
    "\n",
    "print(binary_search(tab, x))"
   ]
  }
 ],
 "metadata": {
  "kernelspec": {
   "display_name": "Python 3",
   "language": "python",
   "name": "python3"
  },
  "language_info": {
   "codemirror_mode": {
    "name": "ipython",
    "version": 3
   },
   "file_extension": ".py",
   "mimetype": "text/x-python",
   "name": "python",
   "nbconvert_exporter": "python",
   "pygments_lexer": "ipython3",
   "version": "3.10.2"
  }
 },
 "nbformat": 4,
 "nbformat_minor": 5
}
